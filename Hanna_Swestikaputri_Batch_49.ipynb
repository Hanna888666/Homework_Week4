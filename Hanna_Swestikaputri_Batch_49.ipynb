{
  "nbformat": 4,
  "nbformat_minor": 0,
  "metadata": {
    "kernelspec": {
      "display_name": "blenv3",
      "language": "python",
      "name": "blenv3"
    },
    "language_info": {
      "codemirror_mode": {
        "name": "ipython",
        "version": 3
      },
      "file_extension": ".py",
      "mimetype": "text/x-python",
      "name": "python",
      "nbconvert_exporter": "python",
      "pygments_lexer": "ipython3",
      "version": "3.6.8"
    },
    "toc": {
      "base_numbering": 1,
      "nav_menu": {},
      "number_sections": true,
      "sideBar": true,
      "skip_h1_title": false,
      "title_cell": "Table of Contents",
      "title_sidebar": "Contents",
      "toc_cell": false,
      "toc_position": {},
      "toc_section_display": true,
      "toc_window_display": true
    },
    "colab": {
      "provenance": []
    }
  },
  "cells": [
    {
      "cell_type": "markdown",
      "metadata": {
        "heading_collapsed": true,
        "id": "IQZPHNVGE0jj"
      },
      "source": [
        "# Homework Introduction to Python"
      ]
    },
    {
      "cell_type": "markdown",
      "metadata": {
        "hidden": true,
        "id": "yKMR8ypqE0jn"
      },
      "source": [
        "$\\textbf{Ubah nama di bawah yaa!}$"
      ]
    },
    {
      "cell_type": "code",
      "source": [],
      "metadata": {
        "id": "EvcehTqcjkUC"
      },
      "execution_count": null,
      "outputs": []
    },
    {
      "cell_type": "markdown",
      "metadata": {
        "hidden": true,
        "id": "bQ7VJlKEE0jo"
      },
      "source": [
        "- Nama: Hanna Swestikaputri\n",
        "- IPK / Nilai Rapot:"
      ]
    },
    {
      "cell_type": "code",
      "metadata": {
        "ExecuteTime": {
          "end_time": "2020-11-12T13:26:22.209983Z",
          "start_time": "2020-11-12T13:26:21.360470Z"
        },
        "hidden": true,
        "id": "4g2oLkevE0jo"
      },
      "source": [
        "import numpy as np\n",
        "\n",
        "# please import as much as you need"
      ],
      "execution_count": null,
      "outputs": []
    },
    {
      "cell_type": "markdown",
      "metadata": {
        "id": "cgd-tTOjE0jr"
      },
      "source": [
        "# Normal"
      ]
    },
    {
      "cell_type": "markdown",
      "metadata": {
        "heading_collapsed": true,
        "id": "ed8OiWGeE0jr"
      },
      "source": [
        "## 1. Operasi Variabel\n",
        "\n",
        "> Misal kita memiliki toko sepatu. Modal membeli 1 kodi sepatu adalah Rp 1.000.000. Setiap sepatu dijual seharga Rp 80.000. Buatlah variabel modal, kuantitas, dan harga_jual sesuai informasi di atas. Hitung profit yang didapatkan jika semua sepatu berhasil terjual, dan masukkan ke variabel profit.\n",
        "\n",
        "Saran langkah-langkah pengerjaan\n",
        "1. Convert terlebih dahulu kodi dalam jumlah barang (1 kodi = xyz buah sepatu)\n",
        "2. Gunakan operasi matematika sederhana untuk menghitung profit menggunakan tiga buah variabel yang sudah ditentukan"
      ]
    },
    {
      "cell_type": "code",
      "metadata": {
        "ExecuteTime": {
          "end_time": "2021-10-23T10:20:16.843127Z",
          "start_time": "2021-10-23T10:20:16.835236Z"
        },
        "hidden": true,
        "scrolled": true,
        "id": "ThOB9tEME0js",
        "outputId": "1c4e53db-dc1f-49da-f376-07e512ae5c32",
        "colab": {
          "base_uri": "https://localhost:8080/"
        }
      },
      "source": [
        "# Given data\n",
        "modal = 1_000_000  # in Rupiah\n",
        "kuantitas = 20  # 1 kodi equals 20 items\n",
        "harga_jual = 80_000  # in Rupiah per item\n",
        "\n",
        "# Profit calculation\n",
        "profit = (harga_jual * kuantitas) - modal\n",
        "print(f\"Profit: Rp {profit}\")\n",
        "\n"
      ],
      "execution_count": null,
      "outputs": [
        {
          "output_type": "stream",
          "name": "stdout",
          "text": [
            "Profit: Rp 600000\n"
          ]
        }
      ]
    },
    {
      "cell_type": "markdown",
      "metadata": {
        "hidden": true,
        "id": "8GaDbS89E0js"
      },
      "source": [
        "Jadi, dari profit di atas, dapat disimpulkan bahwa profit yang didapat adalah Rp 600,000"
      ]
    },
    {
      "cell_type": "markdown",
      "metadata": {
        "id": "5oTZCAI4E0ju"
      },
      "source": [
        "## 2. Package Python dan Dictionary\n",
        "\n",
        "> Kita akan coba mengakses data scientific article dari PLOS corpus\n",
        "    Menggunakan API request dengan kode berikut :\n",
        "```\n",
        "import requests\n",
        "response = requests.get('http://api.plos.org/search?q=title:\"Drosophila\" AND body:\"RNA\"&fl=id,abstract')\n",
        "```\n",
        "**perhatikan tanda kutipnya tidak salah ketika meng-copy ke dalam python\n",
        "\n",
        "Pertanyaannya :\n",
        "Convert response.content dari request tersebut dari JSON Format ke dalam Dictionary, dan print-kan key di dalamnya apa saja\n",
        "\n",
        "Saran langkah-langkah pengerjaan\n",
        "1. Ikuti code dari soal, kemudian ekstrak value dari variable response menggunakan dot (.) content menjadi sebuah variabel baru (dictionary)\n",
        "2. Gunakan library json, convert hasil content menggunakan json.loads\n",
        "3. Print keys dari dictionary tersebut\n"
      ]
    },
    {
      "cell_type": "code",
      "metadata": {
        "ExecuteTime": {
          "end_time": "2021-10-23T10:20:40.890513Z",
          "start_time": "2021-10-23T10:20:40.882963Z"
        },
        "id": "RY1kdZAUE0ju",
        "outputId": "cac7bbe5-0fd1-4e83-f6b1-05770b133719",
        "colab": {
          "base_uri": "https://localhost:8080/"
        }
      },
      "source": [
        "# your code goes here!\n",
        "import requests\n",
        "import json\n",
        "\n",
        "# Fetching data from API\n",
        "response = requests.get('http://api.plos.org/search?q=title:\"Drosophila\" AND body:\"RNA\"&fl=id,abstract')\n",
        "content = response.content\n",
        "\n",
        "# Convert to dictionary\n",
        "data = json.loads(content)\n",
        "\n",
        "# Print dictionary keys\n",
        "print(data.keys())\n"
      ],
      "execution_count": null,
      "outputs": [
        {
          "output_type": "stream",
          "name": "stdout",
          "text": [
            "dict_keys(['response'])\n"
          ]
        }
      ]
    },
    {
      "cell_type": "markdown",
      "metadata": {
        "id": "rvQnd_NgE0jv"
      },
      "source": [
        "Jadi, dari url link di atas, kami menyimpulkan bahwa memiliki keys utama yaitu response"
      ]
    },
    {
      "cell_type": "markdown",
      "metadata": {
        "id": "wWstgpwIPDwR"
      },
      "source": [
        "# Intermediate"
      ]
    },
    {
      "cell_type": "markdown",
      "metadata": {
        "id": "AI0lJNgDE0jv"
      },
      "source": [
        "## 3. Operasi dalam List\n",
        "\n",
        "> Buatlah list dengan 10 nama kota di indonesia, kemudian:\n",
        "1. Urutkan nama kota di dalam list berdasarkan abjad (a)\n",
        "2. Ambil 4 kota pertama dari list tersebut (yang telah diurutkan) (b)\n",
        "3. Ambil 3 kota terakhir dari list tersebut (yang telah diurutkan) (c)\n",
        "\n",
        "Saran langkah-langkah pengerjaan\n",
        "1. Tidak ada ketentuan nama kota (misal berdasarkan provinsi X atau pulau Y), dibebaskan untuk memilih. Buat nama-nama kota tersebut dalam sebuah list.\n",
        "2. Gunakan fungsi sorted(X) untuk mengurutkan secara kecil-ke-besar (sesuai abjad), dimana X adalah contoh variabel list pada langkah (a)\n",
        "3. Gunakan hasil poin (a), urutkan nama kota di dalam list berdasarkan abjad, untuk mengerjakan poin (b) dan (c)."
      ]
    },
    {
      "cell_type": "code",
      "source": [
        "# your code goes here!\n",
        "# Daftar Kota\n",
        "kota = [\"Jakarta\", \"Bandung\", \"Surabaya\", \"Medan\", \"Yogyakarta\", \"Bali\", \"Makassar\", \"Semarang\", \"Palembang\", \"Malang\"]\n",
        "\n",
        "# a) Urutkan nama kota di dalam list berdasarkan abjad\n",
        "kota_berurutan = sorted(kota)\n",
        "\n",
        "# b) Ambil 4 kota pertama dari list tersebut\n",
        "empat_pertama = kota_berurutan[:4]\n",
        "\n",
        "# c) Ambil 3 kota terakhir dari list tersebut\n",
        "tiga_terakhir = kota_berurutan[-3:]\n",
        "\n",
        "print(\"Kota Berdasarkan Urutan Abjad:\", kota_berurutan)\n",
        "print(\"4 Kota Pertama:\", empat_pertama)\n",
        "print(\"3 Kota Terakhir:\", tiga_terakhir)"
      ],
      "metadata": {
        "colab": {
          "base_uri": "https://localhost:8080/"
        },
        "id": "RBMqjuVPrbNd",
        "outputId": "e743af3f-5a08-474c-c7df-2b5fb47b8baf"
      },
      "execution_count": 9,
      "outputs": [
        {
          "output_type": "stream",
          "name": "stdout",
          "text": [
            "Kota Berdasarkan Urutan Abjad: ['Bali', 'Bandung', 'Jakarta', 'Makassar', 'Malang', 'Medan', 'Palembang', 'Semarang', 'Surabaya', 'Yogyakarta']\n",
            "4 Kota Pertama: ['Bali', 'Bandung', 'Jakarta', 'Makassar']\n",
            "3 Kota Terakhir: ['Semarang', 'Surabaya', 'Yogyakarta']\n"
          ]
        }
      ]
    },
    {
      "cell_type": "markdown",
      "source": [
        "Jadi, dari operasi list di atas, dapat disimpulkan bahwa mengambil tiga terakhir dengan memberi minus sebelum angka. Kota pertama adalah urutan ke-0."
      ],
      "metadata": {
        "id": "psP8uVDtr1uJ"
      }
    },
    {
      "cell_type": "markdown",
      "metadata": {
        "id": "6nanVjCCE0jx"
      },
      "source": [
        "## 4. Function dalam List\n",
        "\n",
        "> Team sales memiliki list total transaksi dari 10 merchant pada bulan Juni 2020, yaitu:\n",
        "```\n",
        "total_transaksi = [ 19, 35, 23, 25, 10, 15, 33, 45, 21, 30 ]\n",
        "```\n",
        "1. Trx minimum\n",
        "2. Rata-rata\n",
        "3. Trx maksimal\n",
        "\n",
        "Saran langkah-langkah pengerjaan\n",
        "1. Copy variabel total_transaksi yang ada di soal ke notebook kita (atau ketik ulang boleh)\n",
        "2. Kemudian, hitung menggunakan function operasi dalam list yang telah dipelajari di kelas pada topik list. Print hasilnya setiap poin (a), (b), dan (c)"
      ]
    },
    {
      "cell_type": "markdown",
      "metadata": {
        "id": "FpbGs5EaE0jw"
      },
      "source": [
        "Jadi, dari operasi list di atas, dapat disimpulkan bahwa jika mengambil 4 pertama kota pertama dihitung 0. jika mengambil dari akhir bisa ditambahkan tanda minus."
      ]
    },
    {
      "cell_type": "code",
      "metadata": {
        "ExecuteTime": {
          "end_time": "2021-10-23T10:20:52.903045Z",
          "start_time": "2021-10-23T10:20:52.894900Z"
        },
        "scrolled": true,
        "id": "HxvjrB2RE0jx",
        "outputId": "b86a40f9-b386-45ba-a4b9-adf85f46d743",
        "colab": {
          "base_uri": "https://localhost:8080/"
        }
      },
      "source": [
        "# your code goes here!\n",
        "# Transaksi sales Juni 2010\n",
        "total_transaksi = [19, 35, 23, 25, 10, 15, 33, 45, 21, 30]\n",
        "\n",
        "# a) Transaksi Minimum\n",
        "trx_min = min(total_transaksi)\n",
        "\n",
        "# b) Rerata Transaksi\n",
        "trx_avg = sum(total_transaksi) / len(total_transaksi)\n",
        "\n",
        "# c) Transaksi Maksimum\n",
        "trx_max = max(total_transaksi)\n",
        "\n",
        "print(f\"Transaksi Minimum: {trx_min}\")\n",
        "print(f\"Rerata Transaksi: {trx_avg}\")\n",
        "print(f\"Transaksi Maksimum: {trx_max}\")"
      ],
      "execution_count": 8,
      "outputs": [
        {
          "output_type": "stream",
          "name": "stdout",
          "text": [
            "Transaksi Minimum: 10\n",
            "Rerata Transaksi: 25.6\n",
            "Transaksi Maksimum: 45\n"
          ]
        }
      ]
    },
    {
      "cell_type": "markdown",
      "metadata": {
        "id": "UgHXbAOqE0jx"
      },
      "source": [
        "Jadi, dari hasil operasi list di atas, dapat disimpulkan bahwa nilai minimal, max, rata-rata adalah 10 ; 25.6 ; 45 secara berturut-turut"
      ]
    },
    {
      "cell_type": "markdown",
      "metadata": {
        "id": "f4EkwISgE0jx"
      },
      "source": [
        "# Advanced"
      ]
    },
    {
      "cell_type": "markdown",
      "metadata": {
        "id": "fmaX-pu5E0jy"
      },
      "source": [
        "## 5. NumPy Array\n",
        "\n",
        "> Buatlah array dari 5 bilangan ganjil pertama (dimulai dari 1), Kemudian lakukan perintah berikut :\n",
        "1. Kali-kan array tersebut dengan 10\n",
        "2. Bagi-kan array (hasil dari bagian a) dengan 3\n",
        "3. Kali-kan array (hasil dari bagian b) dengan array baru :\n",
        "`[-45, 43, 3, 56, 5]`\n",
        "4. Carilah pada index ke-berapa nilai tertinggi dan terendah dari array (hasil dari bagian c)\n",
        "\n",
        "Saran langkah-langkah pengerjaan\n",
        "1. HATI-HATI dalam pengerjaan, karena apabila poin sebelumnya salah, maka selanjutnya akan kebawa salah (misal (b) salah, maka poin (c) sampai (d) akan salah)\n",
        "2. Untuk array 5 bilangan ganjil pertama boleh manual boleh menggunakan fungsi, dimulai dari 1\n",
        "3. Ikuti perintah soal, gunakan numpy array, jangan list. Sesuaikan dengan permintaan soal pada setiap butir.\n",
        "\n"
      ]
    },
    {
      "cell_type": "code",
      "metadata": {
        "ExecuteTime": {
          "end_time": "2021-10-23T10:20:59.988806Z",
          "start_time": "2021-10-23T10:20:59.980744Z"
        },
        "scrolled": true,
        "id": "VTTOjU8wE0jy",
        "outputId": "25e62c6b-36c8-4d75-c63d-052cd8289144",
        "colab": {
          "base_uri": "https://localhost:8080/"
        }
      },
      "source": [
        "# your code goes here!\n",
        "import numpy as np\n",
        "\n",
        "# a) Buatlah array dari 5 bilangan ganjil pertama kemudian dikalikan 10\n",
        "array = np.array([1, 3, 5, 7, 9]) * 10\n",
        "\n",
        "# b) Bagikan array dengan 3\n",
        "array_divided = array / 3\n",
        "\n",
        "# c) Kalikan array dengan array yang baru\n",
        "new_array = np.array([-45, 43, 3, 56, 5])\n",
        "result_array = array_divided * new_array\n",
        "\n",
        "# d) Carilah pada index ke-berapa nilai tertinggi dan terendah dari array\n",
        "max_index = np.argmax(result_array)\n",
        "min_index = np.argmin(result_array)\n",
        "\n",
        "print(f\"Result Array: {result_array}\")\n",
        "print(f\"Max value at index: {max_index}\")\n",
        "print(f\"Min value at index: {min_index}\")\n"
      ],
      "execution_count": null,
      "outputs": [
        {
          "output_type": "stream",
          "name": "stdout",
          "text": [
            "Result Array: [-150.          430.           50.         1306.66666667  150.        ]\n",
            "Max value at index: 3\n",
            "Min value at index: 0\n"
          ]
        }
      ]
    },
    {
      "cell_type": "markdown",
      "metadata": {
        "id": "wTkMvK_EE0jy"
      },
      "source": [
        "Jadi, dari hasil operasi numpy di atas, dapat disimpulkan bahwa..."
      ]
    },
    {
      "cell_type": "markdown",
      "metadata": {
        "id": "LLIlxgN3Pmwj"
      },
      "source": [
        "# Terimakasih, salam dari Bekasi"
      ]
    }
  ]
}